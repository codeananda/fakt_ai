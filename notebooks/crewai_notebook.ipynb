{
 "cells": [
  {
   "metadata": {
    "ExecuteTime": {
     "end_time": "2024-09-06T13:36:52.154915Z",
     "start_time": "2024-09-06T13:36:46.966010Z"
    }
   },
   "cell_type": "code",
   "source": [
    "from fakt_ai.crewai_implementation import build_crew_with_tools\n",
    "from IPython.display import Markdown, display"
   ],
   "id": "619c467eba76d0ce",
   "outputs": [],
   "execution_count": 1
  },
  {
   "metadata": {
    "ExecuteTime": {
     "end_time": "2024-09-06T13:44:48.200884Z",
     "start_time": "2024-09-06T13:36:52.163752Z"
    }
   },
   "cell_type": "code",
   "source": [
    "crew = build_crew_with_tools(model_name=\"groq\", verbose=True)\n",
    "r = crew.kickoff({\n",
    "    \"query\": \"What medications were effective treatments against covid before the vaccines were released?\"\n",
    "})\n",
    "display(Markdown(r.raw))"
   ],
   "id": "1ab0e34707e436db",
   "outputs": [
    {
     "name": "stdout",
     "output_type": "stream",
     "text": [
      "\u001B[1m\u001B[95m [2024-09-06 15:36:52][DEBUG]: == Working Agent: Research Analyst\u001B[00m\n",
      "\u001B[1m\u001B[95m [2024-09-06 15:36:52][INFO]: == Starting Task: Search on semantic scholar for papers that support this query: What medications were effective treatments against covid before the vaccines were released?\u001B[00m\n",
      "\n",
      "\n",
      "\u001B[1m> Entering new CrewAgentExecutor chain...\u001B[0m\n",
      "\u001B[32;1m\u001B[1;3mTo find papers that support the query on effective treatments against COVID-19 before vaccines were released, I will use the semanticscholar tool to search for relevant research papers.\n",
      "\n",
      "Action: semanticscholar\n",
      "Action Input: {\"query\": \"effective treatments for COVID-19 before vaccines\"}\u001B[0m\u001B[95m \n",
      "\n",
      "Published year: 2020\n",
      "Title: Finding Effective Treatments for COVID-19: Scientific Integrity and Public Confidence in a Time of Crisis.\n",
      "Authors: J. L. Goodman, L. Borio\n",
      "Abstract: Everyone wants new treatments and vaccines to address the devastation of coronavirus disease 2019 (COVID-19). But, currently, under intense pressure and based on hope and limited data from poorly conducted clinical trials and observational data, many clinicians are embarking on ill-advised and uncontrolled human experimentation with unproven treatments.1 This approach cannot provide answers about what treatments are effective, and it poses undue risk to patients. In this light, decisions to seek and invoke Emergency Use Authorization (EUA) authorities from the US Food and Drug Administration (FDA), such as the recent EUA for chloroquine and hydroxychloroquine,2 which will further increase use of these drugs for treating individuals with COVID-19, are noteworthy and deserve careful attention. Not only are there potential negative consequences from uncontrolled use of these drugs based on currently unconvincing data but, equally concerning, the integrity of governmental decision-making is increasingly coming under pressure, risking harm to both patients and to the public confidence needed to respond effectively to this pandemic. In 2014, Ebola virus disease, then believed to be fatal to most infected individuals, was widespread in West Africa. Early doses of “secret serum,” the triple monoclonal antibody combination (ZMapp), were given\n",
      "\n",
      "\n",
      "Published year: 2020\n",
      "Title: Current pharmacological treatments for COVID‐19: What's next?\n",
      "Authors: C. Scavone, Simona Brusco, M. Bertini, Liberata Sportiello, C. Rafaniello, A. Zoccoli, L. Berrino, G. Racagni, F. Rossi, A. Capuano\n",
      "Abstract: Since December 2019 SARS‐Cov‐2 was found responsible for the disease COVID‐19, which has spread worldwide. No specific therapies/vaccines are yet available for the treatment of COVID‐19. Drug repositioning may offer a strategy and a number of drugs have been repurposed, including lopinavir/ritonavir, remdesivir, favipiravir and tocilizumab. This paper describes the main pharmacological properties of such drugs administered to patients with COVID‐19, focusing on their antiviral, immune‐modulatory and/or anti‐inflammatory actions. Where available, data from clinical trials involving patients with COVID‐19 are reported. Preliminary clinical trials seem to support their benefit. However, such drugs in COVID‐19 patients have peculiar safety profiles. Thus, adequate clinical trials are necessary for these compounds. Nevertheless, while waiting for effective preventive measures i.e. vaccines, many clinical trials on drugs belonging to different therapeutic classes are currently underway. Their results will help us in defining the best way to treat COVID‐19 and reducing its symptoms and complications.\n",
      "\n",
      "\n",
      "Published year: 2023\n",
      "Title: The production of mRNA vaccines in the COVID-19 pandemic: advent of new applications in health treatments\n",
      "Authors: Ana Luiza Barros da Silva, A. D. de Araújo, Vitor Hugo Auzier Lima, Ciana Martins De Oliveira\n",
      "Abstract: Modern vaccines developed using mRNA technology are highly accurate formulations designed to stimulate the production of a variety of antigenic properties in the user in order to activate adaptive immunity. This enables the use of such technology in the research of vaccines against several infectious diseases, such as hepatitis C, Acquired Immunodeficiency Syndrome (AIDS), malaria, tuberculosis, in addition to chronic diseases, such as some types of cancer. Such vaccines were an efficient alternative in the fight against COVID-19 and have remarkable characteristics, such as the versatility of their applications and the ability to encode and express virtually any type of protein. Like this, this work is justified by the need to know the potential applications of this technology in clinical practice and in the search for effective alternative solutions \n",
      "\u001B[00m\n",
      "\u001B[32;1m\u001B[1;3mThought:\n",
      "I have found three relevant papers from Semantic Scholar that discuss various treatments for COVID-19 before vaccines were released. I will compile the full content of these papers and provide the reasons why they support the query.\n",
      "\n",
      "Final Answer:\n",
      "\n",
      "1. **Title:** Finding Effective Treatments for COVID-19: Scientific Integrity and Public Confidence in a Time of Crisis.\n",
      "   - **Authors:** J. L. Goodman, L. Borio\n",
      "   - **Published Year:** 2020\n",
      "   - **Abstract:** Everyone wants new treatments and vaccines to address the devastation of coronavirus disease 2019 (COVID-19). But, currently, under intense pressure and based on hope and limited data from poorly conducted clinical trials and observational data, many clinicians are embarking on ill-advised and uncontrolled human experimentation with unproven treatments. This approach cannot provide answers about what treatments are effective, and it poses undue risk to patients. In this light, decisions to seek and invoke Emergency Use Authorization (EUA) authorities from the US Food and Drug Administration (FDA), such as the recent EUA for chloroquine and hydroxychloroquine, which will further increase use of these drugs for treating individuals with COVID-19, are noteworthy and deserve careful attention. Not only are there potential negative consequences from uncontrolled use of these drugs based on currently unconvincing data but, equally concerning, the integrity of governmental decision-making is increasingly coming under pressure, risking harm to both patients and to the public confidence needed to respond effectively to this pandemic.\n",
      "   - **Reason:** This paper highlights the use of chloroquine and hydroxychloroquine under EUA for treating COVID-19, despite the limited data supporting their effectiveness.\n",
      "\n",
      "2. **Title:** Current pharmacological treatments for COVID‐19: What's next?\n",
      "   - **Authors:** C. Scavone, Simona Brusco, M. Bertini, Liberata Sportiello, C. Rafaniello, A. Zoccoli, L. Berrino, G. Racagni, F. Rossi, A. Capuano\n",
      "   - **Published Year:** 2020\n",
      "   - **Abstract:** Since December 2019 SARS‐Cov‐2 was found responsible for the disease COVID‐19, which has spread worldwide. No specific therapies/vaccines are yet available for the treatment of COVID‐19. Drug repositioning may offer a strategy and a number of drugs have been repurposed, including lopinavir/ritonavir, remdesivir, favipiravir and tocilizumab. This paper describes the main pharmacological properties of such drugs administered to patients with COVID‐19, focusing on their antiviral, immune‐modulatory and/or anti‐inflammatory actions. Where available, data from clinical trials involving patients with COVID‐19 are reported. Preliminary clinical trials seem to support their benefit. However, such drugs in COVID‐19 patients have peculiar safety profiles. Thus, adequate clinical trials are necessary for these compounds. Nevertheless, while waiting for effective preventive measures i.e. vaccines, many clinical trials on drugs belonging to different therapeutic classes are currently underway. Their results will help us in defining the best way to treat COVID‐19 and reducing its symptoms and complications.\n",
      "   - **Reason:** This paper discusses several repurposed drugs such as lopinavir/ritonavir, remdesivir, favipiravir, and tocilizumab, which were considered for treating COVID-19 before the availability of vaccines.\n",
      "\n",
      "3. **Title:** The production of mRNA vaccines in the COVID-19 pandemic: advent of new applications in health treatments\n",
      "   - **Authors:** Ana Luiza Barros da Silva, A. D. de Araújo, Vitor Hugo Auzier Lima, Ciana Martins De Oliveira\n",
      "   - **Published Year:** 2023\n",
      "   - **Abstract:** Modern vaccines developed using mRNA technology are highly accurate formulations designed to stimulate the production of a variety of antigenic properties in the user in order to activate adaptive immunity. This enables the use of such technology in the research of vaccines against several infectious diseases, such as hepatitis C, Acquired Immunodeficiency Syndrome (AIDS), malaria, tuberculosis, in addition to chronic diseases, such as some types of cancer. Such vaccines were an efficient alternative in the fight against COVID-19 and have remarkable characteristics, such as the versatility of their applications and the ability to encode and express virtually any type of protein. Like this, this work is justified by the need to know the potential applications of this technology in clinical practice and in the search for effective alternative solutions.\n",
      "   - **Reason:** This paper provides context on the development of mRNA vaccines and their role in fighting COVID-19, but it is less relevant to the query about treatments before vaccines were available.\n",
      "\n",
      "These papers provide a comprehensive look at the treatments that were considered and used for COVID-19 before vaccines were released, focusing on repurposed drugs and emergency use authorizations.\u001B[0m\n",
      "\n",
      "\u001B[1m> Finished chain.\u001B[0m\n",
      "\u001B[1m\u001B[92m [2024-09-06 15:44:48][DEBUG]: == [Research Analyst] Task output: 1. **Title:** Finding Effective Treatments for COVID-19: Scientific Integrity and Public Confidence in a Time of Crisis.\n",
      "   - **Authors:** J. L. Goodman, L. Borio\n",
      "   - **Published Year:** 2020\n",
      "   - **Abstract:** Everyone wants new treatments and vaccines to address the devastation of coronavirus disease 2019 (COVID-19). But, currently, under intense pressure and based on hope and limited data from poorly conducted clinical trials and observational data, many clinicians are embarking on ill-advised and uncontrolled human experimentation with unproven treatments. This approach cannot provide answers about what treatments are effective, and it poses undue risk to patients. In this light, decisions to seek and invoke Emergency Use Authorization (EUA) authorities from the US Food and Drug Administration (FDA), such as the recent EUA for chloroquine and hydroxychloroquine, which will further increase use of these drugs for treating individuals with COVID-19, are noteworthy and deserve careful attention. Not only are there potential negative consequences from uncontrolled use of these drugs based on currently unconvincing data but, equally concerning, the integrity of governmental decision-making is increasingly coming under pressure, risking harm to both patients and to the public confidence needed to respond effectively to this pandemic.\n",
      "   - **Reason:** This paper highlights the use of chloroquine and hydroxychloroquine under EUA for treating COVID-19, despite the limited data supporting their effectiveness.\n",
      "\n",
      "2. **Title:** Current pharmacological treatments for COVID‐19: What's next?\n",
      "   - **Authors:** C. Scavone, Simona Brusco, M. Bertini, Liberata Sportiello, C. Rafaniello, A. Zoccoli, L. Berrino, G. Racagni, F. Rossi, A. Capuano\n",
      "   - **Published Year:** 2020\n",
      "   - **Abstract:** Since December 2019 SARS‐Cov‐2 was found responsible for the disease COVID‐19, which has spread worldwide. No specific therapies/vaccines are yet available for the treatment of COVID‐19. Drug repositioning may offer a strategy and a number of drugs have been repurposed, including lopinavir/ritonavir, remdesivir, favipiravir and tocilizumab. This paper describes the main pharmacological properties of such drugs administered to patients with COVID‐19, focusing on their antiviral, immune‐modulatory and/or anti‐inflammatory actions. Where available, data from clinical trials involving patients with COVID‐19 are reported. Preliminary clinical trials seem to support their benefit. However, such drugs in COVID‐19 patients have peculiar safety profiles. Thus, adequate clinical trials are necessary for these compounds. Nevertheless, while waiting for effective preventive measures i.e. vaccines, many clinical trials on drugs belonging to different therapeutic classes are currently underway. Their results will help us in defining the best way to treat COVID‐19 and reducing its symptoms and complications.\n",
      "   - **Reason:** This paper discusses several repurposed drugs such as lopinavir/ritonavir, remdesivir, favipiravir, and tocilizumab, which were considered for treating COVID-19 before the availability of vaccines.\n",
      "\n",
      "3. **Title:** The production of mRNA vaccines in the COVID-19 pandemic: advent of new applications in health treatments\n",
      "   - **Authors:** Ana Luiza Barros da Silva, A. D. de Araújo, Vitor Hugo Auzier Lima, Ciana Martins De Oliveira\n",
      "   - **Published Year:** 2023\n",
      "   - **Abstract:** Modern vaccines developed using mRNA technology are highly accurate formulations designed to stimulate the production of a variety of antigenic properties in the user in order to activate adaptive immunity. This enables the use of such technology in the research of vaccines against several infectious diseases, such as hepatitis C, Acquired Immunodeficiency Syndrome (AIDS), malaria, tuberculosis, in addition to chronic diseases, such as some types of cancer. Such vaccines were an efficient alternative in the fight against COVID-19 and have remarkable characteristics, such as the versatility of their applications and the ability to encode and express virtually any type of protein. Like this, this work is justified by the need to know the potential applications of this technology in clinical practice and in the search for effective alternative solutions.\n",
      "   - **Reason:** This paper provides context on the development of mRNA vaccines and their role in fighting COVID-19, but it is less relevant to the query about treatments before vaccines were available.\n",
      "\n",
      "These papers provide a comprehensive look at the treatments that were considered and used for COVID-19 before vaccines were released, focusing on repurposed drugs and emergency use authorizations.\n",
      "\n",
      "\u001B[00m\n"
     ]
    },
    {
     "data": {
      "text/plain": [
       "CrewOutput(raw=\"1. **Title:** Finding Effective Treatments for COVID-19: Scientific Integrity and Public Confidence in a Time of Crisis.\\n   - **Authors:** J. L. Goodman, L. Borio\\n   - **Published Year:** 2020\\n   - **Abstract:** Everyone wants new treatments and vaccines to address the devastation of coronavirus disease 2019 (COVID-19). But, currently, under intense pressure and based on hope and limited data from poorly conducted clinical trials and observational data, many clinicians are embarking on ill-advised and uncontrolled human experimentation with unproven treatments. This approach cannot provide answers about what treatments are effective, and it poses undue risk to patients. In this light, decisions to seek and invoke Emergency Use Authorization (EUA) authorities from the US Food and Drug Administration (FDA), such as the recent EUA for chloroquine and hydroxychloroquine, which will further increase use of these drugs for treating individuals with COVID-19, are noteworthy and deserve careful attention. Not only are there potential negative consequences from uncontrolled use of these drugs based on currently unconvincing data but, equally concerning, the integrity of governmental decision-making is increasingly coming under pressure, risking harm to both patients and to the public confidence needed to respond effectively to this pandemic.\\n   - **Reason:** This paper highlights the use of chloroquine and hydroxychloroquine under EUA for treating COVID-19, despite the limited data supporting their effectiveness.\\n\\n2. **Title:** Current pharmacological treatments for COVID‐19: What's next?\\n   - **Authors:** C. Scavone, Simona Brusco, M. Bertini, Liberata Sportiello, C. Rafaniello, A. Zoccoli, L. Berrino, G. Racagni, F. Rossi, A. Capuano\\n   - **Published Year:** 2020\\n   - **Abstract:** Since December 2019 SARS‐Cov‐2 was found responsible for the disease COVID‐19, which has spread worldwide. No specific therapies/vaccines are yet available for the treatment of COVID‐19. Drug repositioning may offer a strategy and a number of drugs have been repurposed, including lopinavir/ritonavir, remdesivir, favipiravir and tocilizumab. This paper describes the main pharmacological properties of such drugs administered to patients with COVID‐19, focusing on their antiviral, immune‐modulatory and/or anti‐inflammatory actions. Where available, data from clinical trials involving patients with COVID‐19 are reported. Preliminary clinical trials seem to support their benefit. However, such drugs in COVID‐19 patients have peculiar safety profiles. Thus, adequate clinical trials are necessary for these compounds. Nevertheless, while waiting for effective preventive measures i.e. vaccines, many clinical trials on drugs belonging to different therapeutic classes are currently underway. Their results will help us in defining the best way to treat COVID‐19 and reducing its symptoms and complications.\\n   - **Reason:** This paper discusses several repurposed drugs such as lopinavir/ritonavir, remdesivir, favipiravir, and tocilizumab, which were considered for treating COVID-19 before the availability of vaccines.\\n\\n3. **Title:** The production of mRNA vaccines in the COVID-19 pandemic: advent of new applications in health treatments\\n   - **Authors:** Ana Luiza Barros da Silva, A. D. de Araújo, Vitor Hugo Auzier Lima, Ciana Martins De Oliveira\\n   - **Published Year:** 2023\\n   - **Abstract:** Modern vaccines developed using mRNA technology are highly accurate formulations designed to stimulate the production of a variety of antigenic properties in the user in order to activate adaptive immunity. This enables the use of such technology in the research of vaccines against several infectious diseases, such as hepatitis C, Acquired Immunodeficiency Syndrome (AIDS), malaria, tuberculosis, in addition to chronic diseases, such as some types of cancer. Such vaccines were an efficient alternative in the fight against COVID-19 and have remarkable characteristics, such as the versatility of their applications and the ability to encode and express virtually any type of protein. Like this, this work is justified by the need to know the potential applications of this technology in clinical practice and in the search for effective alternative solutions.\\n   - **Reason:** This paper provides context on the development of mRNA vaccines and their role in fighting COVID-19, but it is less relevant to the query about treatments before vaccines were available.\\n\\nThese papers provide a comprehensive look at the treatments that were considered and used for COVID-19 before vaccines were released, focusing on repurposed drugs and emergency use authorizations.\", pydantic=None, json_dict=None, tasks_output=[TaskOutput(description='Search on semantic scholar for papers that support this query: What medications were effective treatments against covid before the vaccines were released?', summary='Search on semantic scholar for papers that support this query:...', raw=\"1. **Title:** Finding Effective Treatments for COVID-19: Scientific Integrity and Public Confidence in a Time of Crisis.\\n   - **Authors:** J. L. Goodman, L. Borio\\n   - **Published Year:** 2020\\n   - **Abstract:** Everyone wants new treatments and vaccines to address the devastation of coronavirus disease 2019 (COVID-19). But, currently, under intense pressure and based on hope and limited data from poorly conducted clinical trials and observational data, many clinicians are embarking on ill-advised and uncontrolled human experimentation with unproven treatments. This approach cannot provide answers about what treatments are effective, and it poses undue risk to patients. In this light, decisions to seek and invoke Emergency Use Authorization (EUA) authorities from the US Food and Drug Administration (FDA), such as the recent EUA for chloroquine and hydroxychloroquine, which will further increase use of these drugs for treating individuals with COVID-19, are noteworthy and deserve careful attention. Not only are there potential negative consequences from uncontrolled use of these drugs based on currently unconvincing data but, equally concerning, the integrity of governmental decision-making is increasingly coming under pressure, risking harm to both patients and to the public confidence needed to respond effectively to this pandemic.\\n   - **Reason:** This paper highlights the use of chloroquine and hydroxychloroquine under EUA for treating COVID-19, despite the limited data supporting their effectiveness.\\n\\n2. **Title:** Current pharmacological treatments for COVID‐19: What's next?\\n   - **Authors:** C. Scavone, Simona Brusco, M. Bertini, Liberata Sportiello, C. Rafaniello, A. Zoccoli, L. Berrino, G. Racagni, F. Rossi, A. Capuano\\n   - **Published Year:** 2020\\n   - **Abstract:** Since December 2019 SARS‐Cov‐2 was found responsible for the disease COVID‐19, which has spread worldwide. No specific therapies/vaccines are yet available for the treatment of COVID‐19. Drug repositioning may offer a strategy and a number of drugs have been repurposed, including lopinavir/ritonavir, remdesivir, favipiravir and tocilizumab. This paper describes the main pharmacological properties of such drugs administered to patients with COVID‐19, focusing on their antiviral, immune‐modulatory and/or anti‐inflammatory actions. Where available, data from clinical trials involving patients with COVID‐19 are reported. Preliminary clinical trials seem to support their benefit. However, such drugs in COVID‐19 patients have peculiar safety profiles. Thus, adequate clinical trials are necessary for these compounds. Nevertheless, while waiting for effective preventive measures i.e. vaccines, many clinical trials on drugs belonging to different therapeutic classes are currently underway. Their results will help us in defining the best way to treat COVID‐19 and reducing its symptoms and complications.\\n   - **Reason:** This paper discusses several repurposed drugs such as lopinavir/ritonavir, remdesivir, favipiravir, and tocilizumab, which were considered for treating COVID-19 before the availability of vaccines.\\n\\n3. **Title:** The production of mRNA vaccines in the COVID-19 pandemic: advent of new applications in health treatments\\n   - **Authors:** Ana Luiza Barros da Silva, A. D. de Araújo, Vitor Hugo Auzier Lima, Ciana Martins De Oliveira\\n   - **Published Year:** 2023\\n   - **Abstract:** Modern vaccines developed using mRNA technology are highly accurate formulations designed to stimulate the production of a variety of antigenic properties in the user in order to activate adaptive immunity. This enables the use of such technology in the research of vaccines against several infectious diseases, such as hepatitis C, Acquired Immunodeficiency Syndrome (AIDS), malaria, tuberculosis, in addition to chronic diseases, such as some types of cancer. Such vaccines were an efficient alternative in the fight against COVID-19 and have remarkable characteristics, such as the versatility of their applications and the ability to encode and express virtually any type of protein. Like this, this work is justified by the need to know the potential applications of this technology in clinical practice and in the search for effective alternative solutions.\\n   - **Reason:** This paper provides context on the development of mRNA vaccines and their role in fighting COVID-19, but it is less relevant to the query about treatments before vaccines were available.\\n\\nThese papers provide a comprehensive look at the treatments that were considered and used for COVID-19 before vaccines were released, focusing on repurposed drugs and emergency use authorizations.\", pydantic=None, json_dict=None, agent='Research Analyst', output_format=<OutputFormat.RAW: 'raw'>)], token_usage=UsageMetrics(total_tokens=2596, prompt_tokens=1537, completion_tokens=1059, successful_requests=2))"
      ]
     },
     "execution_count": 2,
     "metadata": {},
     "output_type": "execute_result"
    }
   ],
   "execution_count": 2
  },
  {
   "metadata": {
    "ExecuteTime": {
     "end_time": "2024-09-06T13:48:46.497740Z",
     "start_time": "2024-09-06T13:48:46.490740Z"
    }
   },
   "cell_type": "code",
   "source": "display(Markdown(r.raw))",
   "id": "2c60841dfdca21b",
   "outputs": [
    {
     "data": {
      "text/plain": [
       "<IPython.core.display.Markdown object>"
      ],
      "text/markdown": "1. **Title:** Finding Effective Treatments for COVID-19: Scientific Integrity and Public Confidence in a Time of Crisis.\n   - **Authors:** J. L. Goodman, L. Borio\n   - **Published Year:** 2020\n   - **Abstract:** Everyone wants new treatments and vaccines to address the devastation of coronavirus disease 2019 (COVID-19). But, currently, under intense pressure and based on hope and limited data from poorly conducted clinical trials and observational data, many clinicians are embarking on ill-advised and uncontrolled human experimentation with unproven treatments. This approach cannot provide answers about what treatments are effective, and it poses undue risk to patients. In this light, decisions to seek and invoke Emergency Use Authorization (EUA) authorities from the US Food and Drug Administration (FDA), such as the recent EUA for chloroquine and hydroxychloroquine, which will further increase use of these drugs for treating individuals with COVID-19, are noteworthy and deserve careful attention. Not only are there potential negative consequences from uncontrolled use of these drugs based on currently unconvincing data but, equally concerning, the integrity of governmental decision-making is increasingly coming under pressure, risking harm to both patients and to the public confidence needed to respond effectively to this pandemic.\n   - **Reason:** This paper highlights the use of chloroquine and hydroxychloroquine under EUA for treating COVID-19, despite the limited data supporting their effectiveness.\n\n2. **Title:** Current pharmacological treatments for COVID‐19: What's next?\n   - **Authors:** C. Scavone, Simona Brusco, M. Bertini, Liberata Sportiello, C. Rafaniello, A. Zoccoli, L. Berrino, G. Racagni, F. Rossi, A. Capuano\n   - **Published Year:** 2020\n   - **Abstract:** Since December 2019 SARS‐Cov‐2 was found responsible for the disease COVID‐19, which has spread worldwide. No specific therapies/vaccines are yet available for the treatment of COVID‐19. Drug repositioning may offer a strategy and a number of drugs have been repurposed, including lopinavir/ritonavir, remdesivir, favipiravir and tocilizumab. This paper describes the main pharmacological properties of such drugs administered to patients with COVID‐19, focusing on their antiviral, immune‐modulatory and/or anti‐inflammatory actions. Where available, data from clinical trials involving patients with COVID‐19 are reported. Preliminary clinical trials seem to support their benefit. However, such drugs in COVID‐19 patients have peculiar safety profiles. Thus, adequate clinical trials are necessary for these compounds. Nevertheless, while waiting for effective preventive measures i.e. vaccines, many clinical trials on drugs belonging to different therapeutic classes are currently underway. Their results will help us in defining the best way to treat COVID‐19 and reducing its symptoms and complications.\n   - **Reason:** This paper discusses several repurposed drugs such as lopinavir/ritonavir, remdesivir, favipiravir, and tocilizumab, which were considered for treating COVID-19 before the availability of vaccines.\n\n3. **Title:** The production of mRNA vaccines in the COVID-19 pandemic: advent of new applications in health treatments\n   - **Authors:** Ana Luiza Barros da Silva, A. D. de Araújo, Vitor Hugo Auzier Lima, Ciana Martins De Oliveira\n   - **Published Year:** 2023\n   - **Abstract:** Modern vaccines developed using mRNA technology are highly accurate formulations designed to stimulate the production of a variety of antigenic properties in the user in order to activate adaptive immunity. This enables the use of such technology in the research of vaccines against several infectious diseases, such as hepatitis C, Acquired Immunodeficiency Syndrome (AIDS), malaria, tuberculosis, in addition to chronic diseases, such as some types of cancer. Such vaccines were an efficient alternative in the fight against COVID-19 and have remarkable characteristics, such as the versatility of their applications and the ability to encode and express virtually any type of protein. Like this, this work is justified by the need to know the potential applications of this technology in clinical practice and in the search for effective alternative solutions.\n   - **Reason:** This paper provides context on the development of mRNA vaccines and their role in fighting COVID-19, but it is less relevant to the query about treatments before vaccines were available.\n\nThese papers provide a comprehensive look at the treatments that were considered and used for COVID-19 before vaccines were released, focusing on repurposed drugs and emergency use authorizations."
     },
     "metadata": {},
     "output_type": "display_data"
    }
   ],
   "execution_count": 5
  }
 ],
 "metadata": {
  "kernelspec": {
   "display_name": "Python 3",
   "language": "python",
   "name": "python3"
  },
  "language_info": {
   "codemirror_mode": {
    "name": "ipython",
    "version": 2
   },
   "file_extension": ".py",
   "mimetype": "text/x-python",
   "name": "python",
   "nbconvert_exporter": "python",
   "pygments_lexer": "ipython2",
   "version": "2.7.6"
  }
 },
 "nbformat": 4,
 "nbformat_minor": 5
}
