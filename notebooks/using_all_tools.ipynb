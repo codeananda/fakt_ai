{
 "cells": [
  {
   "metadata": {},
   "cell_type": "markdown",
   "source": [
    "# Using all tools\n",
    "\n",
    "Quick notebook to run the tool example use sections from the [LangChain docs](https://python.langchain.com/v0.2/docs/integrations/tools/) to check they all work.\n",
    "\n",
    "All work apart from Google Scholar - maybe I need to get a new API key somewhere..."
   ],
   "id": "eccdd03372165c91"
  },
  {
   "metadata": {
    "ExecuteTime": {
     "end_time": "2024-09-06T12:45:58.558085Z",
     "start_time": "2024-09-06T12:45:56.131228Z"
    }
   },
   "cell_type": "code",
   "source": [
    "from langchain import hub\n",
    "from langchain.agents import AgentExecutor, create_react_agent, load_tools, get_all_tool_names\n",
    "from langchain_openai import ChatOpenAI\n",
    "from dotenv import load_dotenv\n",
    "import os\n",
    "\n",
    "load_dotenv()"
   ],
   "id": "e1145f00116588f4",
   "outputs": [
    {
     "data": {
      "text/plain": [
       "True"
      ]
     },
     "execution_count": 1,
     "metadata": {},
     "output_type": "execute_result"
    }
   ],
   "execution_count": 1
  },
  {
   "metadata": {
    "ExecuteTime": {
     "end_time": "2024-09-06T12:45:58.684369Z",
     "start_time": "2024-09-06T12:45:58.668970Z"
    }
   },
   "cell_type": "code",
   "source": "get_all_tool_names()",
   "id": "4c4da2160274541e",
   "outputs": [
    {
     "data": {
      "text/plain": [
       "['sleep',\n",
       " 'wolfram-alpha',\n",
       " 'google-search',\n",
       " 'google-search-results-json',\n",
       " 'searx-search-results-json',\n",
       " 'bing-search',\n",
       " 'metaphor-search',\n",
       " 'ddg-search',\n",
       " 'google-lens',\n",
       " 'google-serper',\n",
       " 'google-scholar',\n",
       " 'google-finance',\n",
       " 'google-trends',\n",
       " 'google-jobs',\n",
       " 'google-serper-results-json',\n",
       " 'searchapi',\n",
       " 'searchapi-results-json',\n",
       " 'serpapi',\n",
       " 'dalle-image-generator',\n",
       " 'twilio',\n",
       " 'searx-search',\n",
       " 'merriam-webster',\n",
       " 'wikipedia',\n",
       " 'arxiv',\n",
       " 'golden-query',\n",
       " 'pubmed',\n",
       " 'human',\n",
       " 'awslambda',\n",
       " 'stackexchange',\n",
       " 'sceneXplain',\n",
       " 'graphql',\n",
       " 'openweathermap-api',\n",
       " 'dataforseo-api-search',\n",
       " 'dataforseo-api-search-json',\n",
       " 'eleven_labs_text2speech',\n",
       " 'google_cloud_texttospeech',\n",
       " 'read_file',\n",
       " 'reddit_search',\n",
       " 'news-api',\n",
       " 'tmdb-api',\n",
       " 'podcast-api',\n",
       " 'memorize',\n",
       " 'llm-math',\n",
       " 'open-meteo-api',\n",
       " 'requests',\n",
       " 'requests_get',\n",
       " 'requests_post',\n",
       " 'requests_patch',\n",
       " 'requests_put',\n",
       " 'requests_delete',\n",
       " 'terminal']"
      ]
     },
     "execution_count": 2,
     "metadata": {},
     "output_type": "execute_result"
    }
   ],
   "execution_count": 2
  },
  {
   "metadata": {},
   "cell_type": "code",
   "outputs": [],
   "execution_count": null,
   "source": "",
   "id": "139beed28155f9d3"
  },
  {
   "metadata": {
    "ExecuteTime": {
     "end_time": "2024-08-28T15:50:08.602538Z",
     "start_time": "2024-08-28T15:47:54.172468Z"
    }
   },
   "cell_type": "code",
   "source": [
    "from langchain import hub\n",
    "from langchain.agents import AgentExecutor, create_openai_functions_agent\n",
    "from langchain_openai import ChatOpenAI\n",
    "from langchain_community.tools.semanticscholar.tool import SemanticScholarQueryRun\n",
    "\n",
    "instructions = \"\"\"You are an expert researcher.\"\"\"\n",
    "base_prompt = hub.pull(\"langchain-ai/openai-functions-template\")\n",
    "prompt = base_prompt.partial(instructions=instructions)\n",
    "llm = ChatOpenAI(temperature=0)\n",
    "\n",
    "tools = [SemanticScholarQueryRun()]\n",
    "agent = create_openai_functions_agent(llm, tools, prompt)\n",
    "agent_executor = AgentExecutor(\n",
    "    agent=agent,\n",
    "    tools=tools,\n",
    "    verbose=True,\n",
    ")\n",
    "agent_executor.invoke(\n",
    "    {\n",
    "        \"input\": \"What are some biases in the large language models? How have people tried to mitigate them? \"\n",
    "        \"show me a list of papers and techniques. Based on your findings write new research questions \"\n",
    "        \"to work on. Break down the task into subtasks for search. Use the search tool\"\n",
    "    }\n",
    ")"
   ],
   "id": "56d50974c29476e0",
   "outputs": [
    {
     "name": "stdout",
     "output_type": "stream",
     "text": [
      "\n",
      "\n",
      "\u001B[1m> Entering new AgentExecutor chain...\u001B[0m\n",
      "\u001B[32;1m\u001B[1;3m\n",
      "Invoking: `semanticscholar` with `{'query': 'biases in large language models'}`\n",
      "\n",
      "\n",
      "\u001B[0m\u001B[36;1m\u001B[1;3mPublished year: 2023\n",
      "Title: Biases in Large Language Models: Origins, Inventory, and Discussion\n",
      "Authors: Roberto Navigli, Simone Conia, Björn Ross\n",
      "Abstract: In this article, we introduce and discuss the pervasive issue of bias in the large language models that are currently at the core of mainstream approaches to Natural Language Processing (NLP). We first introduce data selection bias, that is, the bias caused by the choice of texts that make up a training corpus. Then, we survey the different types of social bias evidenced in the text generated by language models trained on such corpora, ranging from gender to age, from sexual orientation to ethnicity, and from religion to culture. We conclude with directions focused on measuring, reducing, and tackling the aforementioned types of bias.\n",
      "\n",
      "\n",
      "Published year: 2023\n",
      "Title: Benchmarking Cognitive Biases in Large Language Models as Evaluators\n",
      "Authors: Ryan Koo, Minhwa Lee, Vipul Raheja, Jong Inn Park, Zae Myung Kim, Dongyeop Kang\n",
      "Abstract: Large Language Models (LLMs) have recently been shown to be effective as automatic evaluators with simple prompting and in-context learning. In this work, we assemble 15 LLMs of four different size ranges and evaluate their output responses by preference ranking from the other LLMs as evaluators, such as System Star is better than System Square. We then evaluate the quality of ranking outputs introducing the Cognitive Bias Benchmark for LLMs as Evaluators (CoBBLEr), a benchmark to measure six different cognitive biases in LLM evaluation outputs, such as the Egocentric bias where a model prefers to rank its own outputs highly in evaluation. We find that LLMs are biased text quality evaluators, exhibiting strong indications on our bias benchmark (average of 40% of comparisons across all models) within each of their evaluations that question their robustness as evaluators. Furthermore, we examine the correlation between human and machine preferences and calculate the average Rank-Biased Overlap (RBO) score to be 49.6%, indicating that machine preferences are misaligned with humans. According to our findings, LLMs may still be unable to be utilized for automatic annotation aligned with human preferences. Our project page is at: https://minnesotanlp.github.io/cobbler.\n",
      "\n",
      "\n",
      "Published year: 2023\n",
      "Title: Indian-BhED: A Dataset for Measuring India-Centric Biases in Large Language Models\n",
      "Authors: Khyati Khandelwal, Manuel Tonneau, Andrew M. Bean, Hannah Rose Kirk, Scott A. Hale\n",
      "Abstract: Large Language Models (LLMs), now used daily by millions, can encode societal biases, exposing their users to representational harms. A large body of scholarship on LLM bias exists but it predominantly adopts a Western-centric frame and attends comparatively less to bias levels and potential harms in the Global South. In this paper, we quantify stereotypical bias in popular LLMs according to an Indian-centric frame through Indian-BhED, a first of its kind dataset, containing stereotypical and anti-stereotypical examples in the context of caste and religious stereotypes in India. We find that the majority of LLMs tested have a strong propensity to output stereotypes in the Indian context, especially when compared to axes of bias traditionally studied in the Western context, such as gender and race. Notably, we find that GPT-2, GPT-2 Large, and GPT 3.5 have a particularly high propensity for preferring stereotypical outputs as a percent of all sentences for the axes of caste (63-79%) and religion (69-72%). We finally investigate potential causes for such harmful behaviour in LLMs, and posit intervention techniques to reduce both stereotypical and anti-stereotypical biases. The findings of this work highlight the need for including more diverse voices when researching fairness in AI and evaluating LLMs.\n",
      "\n",
      "\n",
      "Published year: 2023\n",
      "Title: Surfacing Biases in Large Language Models using Contrastive Input Decoding\n",
      "Authors: G. Yona, Or Honovich, Itay Laish, Roee Aharoni\n",
      "Abstract: Ensuring t\u001B[0m\u001B[32;1m\u001B[1;3m### Biases in Large Language Models\n",
      "\n",
      "#### Papers:\n",
      "1. **Title:** Biases in Large Language Models: Origins, Inventory, and Discussion\n",
      "   - **Authors:** Roberto Navigli, Simone Conia, Björn Ross\n",
      "   - **Summary:** Discusses the issue of bias in large language models, including data selection bias and various social biases. Provides directions for measuring, reducing, and tackling bias.\n",
      "\n",
      "2. **Title:** Benchmarking Cognitive Biases in Large Language Models as Evaluators\n",
      "   - **Authors:** Ryan Koo, Minhwa Lee, Vipul Raheja, Jong Inn Park, Zae Myung Kim, Dongyeop Kang\n",
      "   - **Summary:** Evaluates the bias in large language models as evaluators using a Cognitive Bias Benchmark. Finds that LLMs exhibit biases in text quality evaluation.\n",
      "\n",
      "3. **Title:** Indian-BhED: A Dataset for Measuring India-Centric Biases in Large Language Models\n",
      "   - **Authors:** Khyati Khandelwal, Manuel Tonneau, Andrew M. Bean, Hannah Rose Kirk, Scott A. Hale\n",
      "   - **Summary:** Introduces Indian-BhED dataset to measure biases in LLMs from an Indian-centric perspective. Highlights the propensity of LLMs to output stereotypes in the Indian context.\n",
      "\n",
      "4. **Title:** Surfacing Biases in Large Language Models using Contrastive Input Decoding\n",
      "   - **Authors:** G. Yona, Or Honovich, Itay Laish, Roee Aharoni\n",
      "   - **Summary:** Discusses surfacing biases in large language models using contrastive input decoding.\n",
      "\n",
      "#### Techniques to Mitigate Biases:\n",
      "- Data selection bias awareness\n",
      "- Cognitive Bias Benchmark for evaluation\n",
      "- Indian-BhED dataset for measuring India-centric biases\n",
      "- Contrastive Input Decoding for surfacing biases\n",
      "\n",
      "### Research Questions:\n",
      "1. How can we develop more comprehensive datasets to measure biases in large language models across different cultural contexts?\n",
      "2. What novel evaluation methods can be employed to effectively identify and mitigate biases in large language models?\n",
      "3. How do biases in large language models impact downstream applications and user experiences, and how can these impacts be minimized?\n",
      "4. Can we design training strategies that proactively reduce biases in large language models during the learning process?\n",
      "\n",
      "### Subtasks for Further Search:\n",
      "1. Explore techniques for measuring biases in large language models.\n",
      "2. Investigate existing evaluation methods for identifying biases in language models.\n",
      "3. Analyze the impact of biases in language models on different cultural contexts.\n",
      "4. Review strategies for mitigating biases in large language models.\u001B[0m\n",
      "\n",
      "\u001B[1m> Finished chain.\u001B[0m\n"
     ]
    },
    {
     "data": {
      "text/plain": [
       "{'input': 'What are some biases in the large language models? How have people tried to mitigate them? show me a list of papers and techniques. Based on your findings write new research questions to work on. Break down the task into subtasks for search. Use the search tool',\n",
       " 'output': '### Biases in Large Language Models\\n\\n#### Papers:\\n1. **Title:** Biases in Large Language Models: Origins, Inventory, and Discussion\\n   - **Authors:** Roberto Navigli, Simone Conia, Björn Ross\\n   - **Summary:** Discusses the issue of bias in large language models, including data selection bias and various social biases. Provides directions for measuring, reducing, and tackling bias.\\n\\n2. **Title:** Benchmarking Cognitive Biases in Large Language Models as Evaluators\\n   - **Authors:** Ryan Koo, Minhwa Lee, Vipul Raheja, Jong Inn Park, Zae Myung Kim, Dongyeop Kang\\n   - **Summary:** Evaluates the bias in large language models as evaluators using a Cognitive Bias Benchmark. Finds that LLMs exhibit biases in text quality evaluation.\\n\\n3. **Title:** Indian-BhED: A Dataset for Measuring India-Centric Biases in Large Language Models\\n   - **Authors:** Khyati Khandelwal, Manuel Tonneau, Andrew M. Bean, Hannah Rose Kirk, Scott A. Hale\\n   - **Summary:** Introduces Indian-BhED dataset to measure biases in LLMs from an Indian-centric perspective. Highlights the propensity of LLMs to output stereotypes in the Indian context.\\n\\n4. **Title:** Surfacing Biases in Large Language Models using Contrastive Input Decoding\\n   - **Authors:** G. Yona, Or Honovich, Itay Laish, Roee Aharoni\\n   - **Summary:** Discusses surfacing biases in large language models using contrastive input decoding.\\n\\n#### Techniques to Mitigate Biases:\\n- Data selection bias awareness\\n- Cognitive Bias Benchmark for evaluation\\n- Indian-BhED dataset for measuring India-centric biases\\n- Contrastive Input Decoding for surfacing biases\\n\\n### Research Questions:\\n1. How can we develop more comprehensive datasets to measure biases in large language models across different cultural contexts?\\n2. What novel evaluation methods can be employed to effectively identify and mitigate biases in large language models?\\n3. How do biases in large language models impact downstream applications and user experiences, and how can these impacts be minimized?\\n4. Can we design training strategies that proactively reduce biases in large language models during the learning process?\\n\\n### Subtasks for Further Search:\\n1. Explore techniques for measuring biases in large language models.\\n2. Investigate existing evaluation methods for identifying biases in language models.\\n3. Analyze the impact of biases in language models on different cultural contexts.\\n4. Review strategies for mitigating biases in large language models.'}"
      ]
     },
     "execution_count": 5,
     "metadata": {},
     "output_type": "execute_result"
    }
   ],
   "execution_count": 5
  },
  {
   "metadata": {
    "ExecuteTime": {
     "end_time": "2024-08-28T15:51:51.878282Z",
     "start_time": "2024-08-28T15:50:39.742762Z"
    }
   },
   "cell_type": "code",
   "source": [
    "agent_executor.invoke(\n",
    "    {\n",
    "        \"input\": \"What are some risks associated with taking the covid vaccine? Shoe me a list \"\n",
    "                 \"of papers and techniques. Use the search tool\"\n",
    "    }\n",
    ")"
   ],
   "id": "cfc323eea4df3bf",
   "outputs": [
    {
     "name": "stdout",
     "output_type": "stream",
     "text": [
      "\n",
      "\n",
      "\u001B[1m> Entering new AgentExecutor chain...\u001B[0m\n",
      "\u001B[32;1m\u001B[1;3m\n",
      "Invoking: `semanticscholar` with `{'query': 'risks associated with taking the covid vaccine'}`\n",
      "\n",
      "\n",
      "\u001B[0m\u001B[36;1m\u001B[1;3mPublished year: 2022\n",
      "Title: Taking cognizance of the risks associated with COVID-19, vaccine, and treatment in liver transplant recipients – A commentary on “The urgency of the Covid-19 vaccine in liver transplantation patients: What, how, and when?” [Int. J. Surg. 100 (Suppl) (2022) 106492)]\n",
      "Authors: A. MohanaSundaram, Shanmugarajan Thukani Sathanantham, Ravichandiran Velayutham\n",
      "Abstract: None\n",
      "\n",
      "\n",
      "Published year: 2022\n",
      "Title: Factors Associated with COVID-19 Vaccine Hesitancy after Implementation of a Mass Vaccination Campaign\n",
      "Authors: I. Gomes, P. Soares, J. Rocha, A. Gama, P. Laires, M. Moniz, A. R. Pedro, S. Dias, A. Goes, A. Leite, C. Nunes\n",
      "Abstract: An online cross-sectional study on COVID-19 vaccination adhesion was conducted in Portugal nine months after vaccination rollout (September–November 2021). Logistic regression was used to identify factors associated with hesitancy to take the COVID-19 vaccine in the community-based survey, “COVID-19 Barometer: Social Opinion”. Hesitancy was 11%; however, of those, 60.5% stated that they intended to take the vaccine. Hesitancy was associated with factors such as lower monthly household income; no intention of taking the flu vaccine this year; perceived reasonable health status; having two or more diseases; low confidence in the health service response; worse perception of the adequacy of anti-COVID-19 government measures; low or no perceived risk of getting COVID-19; feeling agitated, anxious or sad some days; and lack of trust in the safety and efficacy of the vaccines. Confidence in vaccines, namely against COVID-19, is paramount for public health and should be monitored during vaccination rollout. Clear communication of the risks and benefits of vaccination needs improvement to increase adherence and public confidence.\n",
      "\n",
      "\n",
      "Published year: 2022\n",
      "Title: Factors Affecting Attitudes Toward the COVID-19 Vaccine: Empirical Evidence From the United Arab Emirates\n",
      "Authors: Sanaa Ashour, K. Al-Tkhayneh, G. E. El Refae, A. Kaba\n",
      "Abstract: Despite the importance of vaccinations to combat COVID-19, some people are still wary. This study examines factors affecting attitudes toward COVID-19 vaccination in the United Arab Emirates (UAE). Data were collected using an online survey to determine the factors that affect people’s attitudes reluctant to have the COVID-19 vaccine. In total, 958 respondents participated in this study. The main factors affecting people’s attitudes toward the COVID-19 vaccine in the UAE are medical concerns, religious concerns, misinformation about vaccines on social media, the rapid speed of vaccine development, and the risks of side effects associated with the vaccine. There was no difference in gender, but the older respondents (55 and above), those less educated, unemployed, and those who work in the private sector have more fears and hesitancy toward taking the vaccine.\n",
      "\n",
      "\n",
      "Published year: 2021\n",
      "Title: Covid-19: Sputnik vaccine rockets, thanks to Lancet boost\n",
      "Authors: Chris van Tulleken, Chris van Tulleken\n",
      "Abstract: International responses ranged from concern to derision. By granting approval to a vaccine before results from large phase III randomised trials were available, the Russian government seemed to be taking two immense risks. The firstwas a risk of direct harm to large numbers of people. Bad vaccines don’t just fail to protect, they might have serious adverse effects including making subsequent infection more dangerous through antibody associated disease enhancement, a phenomenon previously seen with SARS and MERS coronaviruses.3 Second, if people were harmed, public confidence in the vaccination programmeand future investment in covid-19 vaccine development anduptakemight be jeopardised. Trust in vaccines is easily bruised and recovers slowly.\n",
      "\n",
      "\n",
      "Published year: 2022\n",
      "Title: Case Series of Potential Cardiac Inflammation Associated With Various SARS-CoV-2 Vaccinations Assessed by Cardiac MRI\n",
      "Authors: C. Jahnke, P. Doeblin, R. Tanacli, U. Witt, Matthias Schneider, \u001B[0m\u001B[32;1m\u001B[1;3mHere are some papers related to risks associated with taking the COVID-19 vaccine:\n",
      "\n",
      "1. **Title:** Taking cognizance of the risks associated with COVID-19, vaccine, and treatment in liver transplant recipients – A commentary on “The urgency of the Covid-19 vaccine in liver transplantation patients: What, how, and when?”\n",
      "   - **Authors:** A. MohanaSundaram, Shanmugarajan Thukani Sathanantham, Ravichandiran Velayutham\n",
      "\n",
      "2. **Title:** Factors Associated with COVID-19 Vaccine Hesitancy after Implementation of a Mass Vaccination Campaign\n",
      "   - **Authors:** I. Gomes, P. Soares, J. Rocha, A. Gama, P. Laires, M. Moniz, A. R. Pedro, S. Dias, A. Goes, A. Leite, C. Nunes\n",
      "   - **Abstract:** This study identifies factors associated with hesitancy to take the COVID-19 vaccine, including lower income, lack of intention to take the flu vaccine, perceived health status, confidence in health services, perception of government measures, risk perception, emotional state, and trust in vaccine safety and efficacy.\n",
      "\n",
      "3. **Title:** Factors Affecting Attitudes Toward the COVID-19 Vaccine: Empirical Evidence From the United Arab Emirates\n",
      "   - **Authors:** Sanaa Ashour, K. Al-Tkhayneh, G. E. El Refae, A. Kaba\n",
      "   - **Abstract:** This study explores factors influencing attitudes toward the COVID-19 vaccine in the UAE, such as medical and religious concerns, misinformation on social media, rapid vaccine development, and risks of side effects.\n",
      "\n",
      "4. **Title:** Covid-19: Sputnik vaccine rockets, thanks to Lancet boost\n",
      "   - **Authors:** Chris van Tulleken\n",
      "   - **Abstract:** Discusses concerns and risks associated with the approval and use of the Sputnik vaccine without large phase III randomized trial results, including potential harm and impact on public confidence in vaccination programs.\n",
      "\n",
      "5. **Title:** Case Series of Potential Cardiac Inflammation Associated With Various SARS-CoV-2 Vaccinations Assessed by Cardiac MRI\n",
      "   - **Authors:** C. Jahnke, P. Doeblin, R. Tanacli, U. Witt, Matthias Schneider\n",
      "\n",
      "These papers provide insights into the risks and factors influencing attitudes towards COVID-19 vaccination.\u001B[0m\n",
      "\n",
      "\u001B[1m> Finished chain.\u001B[0m\n"
     ]
    },
    {
     "data": {
      "text/plain": [
       "{'input': 'What are some risks associated with taking the covid vaccine? Shoe me a list of papers and techniques. Use the search tool',\n",
       " 'output': 'Here are some papers related to risks associated with taking the COVID-19 vaccine:\\n\\n1. **Title:** Taking cognizance of the risks associated with COVID-19, vaccine, and treatment in liver transplant recipients – A commentary on “The urgency of the Covid-19 vaccine in liver transplantation patients: What, how, and when?”\\n   - **Authors:** A. MohanaSundaram, Shanmugarajan Thukani Sathanantham, Ravichandiran Velayutham\\n\\n2. **Title:** Factors Associated with COVID-19 Vaccine Hesitancy after Implementation of a Mass Vaccination Campaign\\n   - **Authors:** I. Gomes, P. Soares, J. Rocha, A. Gama, P. Laires, M. Moniz, A. R. Pedro, S. Dias, A. Goes, A. Leite, C. Nunes\\n   - **Abstract:** This study identifies factors associated with hesitancy to take the COVID-19 vaccine, including lower income, lack of intention to take the flu vaccine, perceived health status, confidence in health services, perception of government measures, risk perception, emotional state, and trust in vaccine safety and efficacy.\\n\\n3. **Title:** Factors Affecting Attitudes Toward the COVID-19 Vaccine: Empirical Evidence From the United Arab Emirates\\n   - **Authors:** Sanaa Ashour, K. Al-Tkhayneh, G. E. El Refae, A. Kaba\\n   - **Abstract:** This study explores factors influencing attitudes toward the COVID-19 vaccine in the UAE, such as medical and religious concerns, misinformation on social media, rapid vaccine development, and risks of side effects.\\n\\n4. **Title:** Covid-19: Sputnik vaccine rockets, thanks to Lancet boost\\n   - **Authors:** Chris van Tulleken\\n   - **Abstract:** Discusses concerns and risks associated with the approval and use of the Sputnik vaccine without large phase III randomized trial results, including potential harm and impact on public confidence in vaccination programs.\\n\\n5. **Title:** Case Series of Potential Cardiac Inflammation Associated With Various SARS-CoV-2 Vaccinations Assessed by Cardiac MRI\\n   - **Authors:** C. Jahnke, P. Doeblin, R. Tanacli, U. Witt, Matthias Schneider\\n\\nThese papers provide insights into the risks and factors influencing attitudes towards COVID-19 vaccination.'}"
      ]
     },
     "execution_count": 6,
     "metadata": {},
     "output_type": "execute_result"
    }
   ],
   "execution_count": 6
  },
  {
   "metadata": {
    "ExecuteTime": {
     "end_time": "2024-09-06T12:54:13.407091Z",
     "start_time": "2024-09-06T12:54:09.571437Z"
    }
   },
   "cell_type": "code",
   "source": [
    "from langchain_community.tools.tavily_search import TavilySearchResults\n",
    "\n",
    "tavily = TavilySearchResults()\n",
    "\n",
    "tavily.invoke({\"query\": \"What medications were effective treatments against covid before the vaccines were released?\"})"
   ],
   "id": "1ad506cdd072f668",
   "outputs": [
    {
     "data": {
      "text/plain": [
       "[{'url': 'https://www.nih.gov/news-events/nih-research-matters/final-report-confirms-remdesivir-benefits-covid-19',\n",
       "  'content': 'Final results of a treatment trail confirmed that remdesivir speeds recovery for hospitalized patients with severe COVID-19. Xavierarnau / E+ via Getty Images. Remdesivir is an antiviral medication that targets a range of viruses. It was originally developed over a decade ago to treat hepatitis C and a cold-like virus called respiratory ...'},\n",
       " {'url': 'https://theconversation.com/which-drugs-and-therapies-are-proven-to-work-and-which-ones-dont-for-covid-19-141513',\n",
       "  'content': 'Chloroquine. COVID-19 treatment. ACE2. Cytokine storm. Dexamethasone. Register now. During the last six months, news reports have mentioned dozens of drugs that may be effective against the new ...'},\n",
       " {'url': 'https://www.yalemedicine.org/news/covid-19-treatment-drugs',\n",
       "  'content': \"The treatment showed efficacy against early strains of Omicron, but it proved to be ineffective against Omicron sublineages BQ.1 and BQ.1.1. It was an important treatment for certain immunocompromised COVID-19 patients who weren't able to take Paxlovid or faced challenges with other treatments.\"},\n",
       " {'url': 'https://www.bmj.com/content/381/bmj.p872',\n",
       "  'content': \"Vaccines have taken up much of the spotlight, but where have we got to with covid-19 treatments, asks Mun-Keat Looi —and is there a global standard of care? Written in cooperation with the World Health Organization, The BMJ 's living systematic review is a meta-analysis comparing the effects of treatments for covid-19,1 using data from more than 400 randomised clinical trials worldwide. At ...\"},\n",
       " {'url': 'https://www.nature.com/articles/s41564-023-01356-4',\n",
       "  'content': 'Vaccines and monoclonal antibody treatments to prevent severe coronavirus disease 2019 (COVID-19) illness were available within a year of the pandemic being declared but there remained an urgent ...'}]"
      ]
     },
     "execution_count": 3,
     "metadata": {},
     "output_type": "execute_result"
    }
   ],
   "execution_count": 3
  },
  {
   "metadata": {},
   "cell_type": "code",
   "outputs": [],
   "execution_count": null,
   "source": "",
   "id": "ad90d73eec7b56ab"
  },
  {
   "cell_type": "code",
   "id": "initial_id",
   "metadata": {
    "collapsed": true,
    "ExecuteTime": {
     "end_time": "2024-08-28T15:19:11.011004Z",
     "start_time": "2024-08-28T15:19:07.046008Z"
    }
   },
   "source": [
    "llm = ChatOpenAI(temperature=0.0)\n",
    "tools = load_tools(\n",
    "    [\"arxiv\"],\n",
    ")\n",
    "prompt = hub.pull(\"hwchase17/react\")\n",
    "\n",
    "agent = create_react_agent(llm, tools, prompt)\n",
    "agent_executor = AgentExecutor(agent=agent, tools=tools, verbose=True)\n",
    "\n",
    "agent_executor.invoke(\n",
    "    {\n",
    "        \"input\": \"What's the paper 1605.08386 about?\",\n",
    "    }\n",
    ")"
   ],
   "outputs": [
    {
     "name": "stderr",
     "output_type": "stream",
     "text": [
      "C:\\Users\\User\\AppData\\Local\\pypoetry\\Cache\\virtualenvs\\fakt-ai-YW2sLaBr-py3.10\\lib\\site-packages\\langchain_core\\_api\\beta_decorator.py:87: LangChainBetaWarning: The function `loads` is in beta. It is actively being worked on, so the API may change.\n",
      "  warn_beta(\n"
     ]
    },
    {
     "name": "stdout",
     "output_type": "stream",
     "text": [
      "\n",
      "\n",
      "\u001B[1m> Entering new AgentExecutor chain...\u001B[0m\n",
      "\u001B[32;1m\u001B[1;3mI should use arxiv to search for the paper with the identifier 1605.08386.\n",
      "Action: arxiv\n",
      "Action Input: 1605.08386\u001B[0m\u001B[36;1m\u001B[1;3mPublished: 2016-05-26\n",
      "Title: Heat-bath random walks with Markov bases\n",
      "Authors: Caprice Stanley, Tobias Windisch\n",
      "Summary: Graphs on lattice points are studied whose edges come from a finite set of\n",
      "allowed moves of arbitrary length. We show that the diameter of these graphs on\n",
      "fibers of a fixed integer matrix can be bounded from above by a constant. We\n",
      "then study the mixing behaviour of heat-bath random walks on these graphs. We\n",
      "also state explicit conditions on the set of moves so that the heat-bath random\n",
      "walk, a generalization of the Glauber dynamics, is an expander in fixed\n",
      "dimension.\u001B[0m\u001B[32;1m\u001B[1;3mThe paper 1605.08386 is about heat-bath random walks with Markov bases.\n",
      "Final Answer: The paper 1605.08386 is about heat-bath random walks with Markov bases.\u001B[0m\n",
      "\n",
      "\u001B[1m> Finished chain.\u001B[0m\n"
     ]
    },
    {
     "data": {
      "text/plain": [
       "{'input': \"What's the paper 1605.08386 about?\",\n",
       " 'output': 'The paper 1605.08386 is about heat-bath random walks with Markov bases.'}"
      ]
     },
     "execution_count": 2,
     "metadata": {},
     "output_type": "execute_result"
    }
   ],
   "execution_count": 2
  },
  {
   "metadata": {
    "ExecuteTime": {
     "end_time": "2024-08-28T15:30:19.457446Z",
     "start_time": "2024-08-28T15:30:18.781730Z"
    }
   },
   "cell_type": "code",
   "source": [
    "from langchain_community.tools.reddit_search.tool import RedditSearchRun\n",
    "from langchain_community.utilities.reddit_search import RedditSearchAPIWrapper\n",
    "from langchain_community.tools.reddit_search.tool import RedditSearchSchema\n",
    "\n",
    "search = RedditSearchRun(\n",
    "    api_wrapper=RedditSearchAPIWrapper(\n",
    "        reddit_client_id=os.environ['REDDIT_CLIENT_ID'],\n",
    "        reddit_client_secret=os.environ['REDDIT_CLIENT_SECRET'],\n",
    "        reddit_user_agent=os.environ['REDDIT_USER_AGENT'],\n",
    "    )\n",
    ")\n",
    "\n",
    "\n",
    "search_params = RedditSearchSchema(\n",
    "    query=\"beginner\", sort=\"new\", time_filter=\"week\", subreddit=\"python\", limit=\"2\"\n",
    ")\n",
    "\n",
    "result = search.run(tool_input=search_params.dict())\n",
    "print(result)"
   ],
   "id": "10f88557ee8967a0",
   "outputs": [
    {
     "name": "stdout",
     "output_type": "stream",
     "text": [
      "Searching r/python found 2 posts:\n",
      "Post Title: 'Wednesday Daily Thread: Beginner questions'\n",
      "                    User: AutoModerator\n",
      "                    Subreddit: r/Python:\n",
      "                    Text body: # Weekly Thread: Beginner Questions 🐍\n",
      "\n",
      "Welcome to our Beginner Questions thread! Whether you're new to Python or just looking to clarify some basics, this is the thread for you.\n",
      "\n",
      "## How it Works:\n",
      "\n",
      "1. **Ask Anything**: Feel free to ask any Python-related question. There are no bad questions here!\n",
      "2. **Community Support**: Get answers and advice from the community.\n",
      "3. **Resource Sharing**: Discover tutorials, articles, and beginner-friendly resources.\n",
      "\n",
      "## Guidelines:\n",
      "\n",
      "* This thread is specifically for **beginner questions**. For more advanced queries, check out our [Advanced Questions Thread](#advanced-questions-thread-link).\n",
      "\n",
      "## Recommended Resources:\n",
      "\n",
      "* If you don't receive a response, consider exploring r/LearnPython or join the [Python Discord Server](https://discord.gg/python) for quicker assistance.\n",
      "\n",
      "## Example Questions:\n",
      "\n",
      "1. **What is the difference between a list and a tuple?**\n",
      "2. **How do I read a CSV file in Python?**\n",
      "3. **What are Python decorators and how do I use them?**\n",
      "4. **How do I install a Python package using pip?**\n",
      "5. **What is a virtual environment and why should I use one?**\n",
      "\n",
      "Let's help each other learn Python! 🌟\n",
      "                    Post URL: https://www.reddit.com/r/Python/comments/1f2w8b8/wednesday_daily_thread_beginner_questions/\n",
      "                    Post Category: N/A.\n",
      "                    Score: 10\n",
      "\n",
      "Post Title: 'Tuesday Daily Thread: Advanced questions'\n",
      "                    User: AutoModerator\n",
      "                    Subreddit: r/Python:\n",
      "                    Text body: # Weekly Wednesday Thread: Advanced Questions 🐍\n",
      "\n",
      "Dive deep into Python with our Advanced Questions thread! This space is reserved for questions about more advanced Python topics, frameworks, and best practices.\n",
      "\n",
      "## How it Works:\n",
      "\n",
      "1. **Ask Away**: Post your advanced Python questions here.\n",
      "2. **Expert Insights**: Get answers from experienced developers.\n",
      "3. **Resource Pool**: Share or discover tutorials, articles, and tips.\n",
      "\n",
      "## Guidelines:\n",
      "\n",
      "* This thread is for **advanced questions only**. Beginner questions are welcome in our [Daily Beginner Thread](#daily-beginner-thread-link) every Thursday.\n",
      "* Questions that are not advanced may be removed and redirected to the appropriate thread.\n",
      "\n",
      "## Recommended Resources:\n",
      "\n",
      "* If you don't receive a response, consider exploring r/LearnPython or join the [Python Discord Server](https://discord.gg/python) for quicker assistance.\n",
      "\n",
      "## Example Questions:\n",
      "\n",
      "1. **How can you implement a custom memory allocator in Python?**\n",
      "2. **What are the best practices for optimizing Cython code for heavy numerical computations?**\n",
      "3. **How do you set up a multi-threaded architecture using Python's Global Interpreter Lock (GIL)?**\n",
      "4. **Can you explain the intricacies of metaclasses and how they influence object-oriented design in Python?**\n",
      "5. **How would you go about implementing a distributed task queue using Celery and RabbitMQ?**\n",
      "6. **What are some advanced use-cases for Python's decorators?**\n",
      "7. **How can you achieve real-time data streaming in Python with WebSockets?**\n",
      "8. **What are the performance implications of using native Python data structures vs NumPy arrays for large-scale data?**\n",
      "9. **Best practices for securing a Flask (or similar) REST API with OAuth 2.0?**\n",
      "10. **What are the best practices for using Python in a microservices architecture? (..and more generally, should I even use microservices?)**\n",
      "\n",
      "Let's deepen our Python knowledge together. Happy coding! 🌟\n",
      "                    Post URL: https://www.reddit.com/r/Python/comments/1f237eq/tuesday_daily_thread_advanced_questions/\n",
      "                    Post Category: N/A.\n",
      "                    Score: 8\n",
      "\n"
     ]
    }
   ],
   "execution_count": 4
  },
  {
   "metadata": {
    "ExecuteTime": {
     "end_time": "2024-08-28T15:34:26.503688Z",
     "start_time": "2024-08-28T15:34:25.176449Z"
    }
   },
   "cell_type": "code",
   "source": [
    "from langchain_community.tools.pubmed.tool import PubmedQueryRun\n",
    "\n",
    "tool = PubmedQueryRun()\n",
    "r = tool.invoke(\"Is invermectin effective as a covid treatment?\")\n",
    "print(r)"
   ],
   "id": "e24443d712d8278a",
   "outputs": [
    {
     "name": "stdout",
     "output_type": "stream",
     "text": [
      "Published: 2021-08-11\n",
      "Title: Potential use of ivermectin for the treatment and prophylaxis of SARS-CoV-2 infection.\n",
      "Copyright Information: Copyright © 2021 Elsevier Masson SAS. All rights reserved.\n",
      "Summary::\n",
      "PURPOSE OF THE STUDY: Currently no treatment has been proven to be efficacious for patients with early symptoms of COVID-19. Although most patients present mild or moderate symptoms, up to 5-10% may have a poor disease progression, so there is an urgent need for effective drugs, which can be administered even before the onset of severe symptoms, i.e. when the course of the disease is modifiable. Recently, promising results of several studies on oral ivermectin have been published, which has prompted us to conduct the present review of the scientific literature.\n",
      "METHODS: A narrative review has been carried out, focusing on the following four main topics: a) short-term efficacy in the treatment of the disease, b) long-term efficacy in the treatment of patients with post-acute symptoms of COVID-19, c) efficacy in the prophylaxis of the disease, and c) safety of ivermectin.\n",
      "RESULTS: The reviewed literature suggests that there seems to be sufficient evidence about the safety of oral ivermectin, as well as the efficacy of the drug in the early-treatment and the prophylaxis of COVID-19.\n",
      "CONCLUSIONS: In the view of the available evidence, the Frontline COVID-19 Critical Care Alliance (FLCCC) recommends the use of oral ivermectin for both prophylaxis and early-treatment of COVID-19. Further well-designed studies should be conducted in order to explore the efficacy and safety of invermectin at low and high doses, following different dosing schedules, in both, the short and long-term treatment.\n"
     ]
    }
   ],
   "execution_count": 6
  },
  {
   "metadata": {
    "ExecuteTime": {
     "end_time": "2024-08-28T15:59:08.964920Z",
     "start_time": "2024-08-28T15:59:08.617740Z"
    }
   },
   "cell_type": "code",
   "outputs": [
    {
     "ename": "ValidationError",
     "evalue": "2 validation errors for GoogleScholarAPIWrapper\nSERP_API_KEY\n  extra fields not permitted (type=value_error.extra)\ngoogle_scholar_engine\n  extra fields not permitted (type=value_error.extra)",
     "output_type": "error",
     "traceback": [
      "\u001B[1;31m---------------------------------------------------------------------------\u001B[0m",
      "\u001B[1;31mValidationError\u001B[0m                           Traceback (most recent call last)",
      "Cell \u001B[1;32mIn[2], line 7\u001B[0m\n\u001B[0;32m      3\u001B[0m \u001B[38;5;28;01mfrom\u001B[39;00m \u001B[38;5;21;01mlangchain_community\u001B[39;00m\u001B[38;5;21;01m.\u001B[39;00m\u001B[38;5;21;01mtools\u001B[39;00m\u001B[38;5;21;01m.\u001B[39;00m\u001B[38;5;21;01mgoogle_scholar\u001B[39;00m \u001B[38;5;28;01mimport\u001B[39;00m GoogleScholarQueryRun\n\u001B[0;32m      4\u001B[0m \u001B[38;5;28;01mfrom\u001B[39;00m \u001B[38;5;21;01mlangchain_community\u001B[39;00m\u001B[38;5;21;01m.\u001B[39;00m\u001B[38;5;21;01mutilities\u001B[39;00m\u001B[38;5;21;01m.\u001B[39;00m\u001B[38;5;21;01mgoogle_scholar\u001B[39;00m \u001B[38;5;28;01mimport\u001B[39;00m GoogleScholarAPIWrapper\n\u001B[1;32m----> 7\u001B[0m wrapper \u001B[38;5;241m=\u001B[39m \u001B[43mGoogleScholarAPIWrapper\u001B[49m\u001B[43m(\u001B[49m\u001B[43m)\u001B[49m\n\u001B[0;32m      8\u001B[0m tool \u001B[38;5;241m=\u001B[39m GoogleScholarQueryRun(api_wrapper\u001B[38;5;241m=\u001B[39mwrapper)\n\u001B[0;32m      9\u001B[0m tool\u001B[38;5;241m.\u001B[39mrun(\u001B[38;5;124m\"\u001B[39m\u001B[38;5;124mLLM Models\u001B[39m\u001B[38;5;124m\"\u001B[39m)\n",
      "File \u001B[1;32m~\\AppData\\Local\\pypoetry\\Cache\\virtualenvs\\fakt-ai-YW2sLaBr-py3.10\\lib\\site-packages\\pydantic\\v1\\main.py:341\u001B[0m, in \u001B[0;36mBaseModel.__init__\u001B[1;34m(__pydantic_self__, **data)\u001B[0m\n\u001B[0;32m    339\u001B[0m values, fields_set, validation_error \u001B[38;5;241m=\u001B[39m validate_model(__pydantic_self__\u001B[38;5;241m.\u001B[39m\u001B[38;5;18m__class__\u001B[39m, data)\n\u001B[0;32m    340\u001B[0m \u001B[38;5;28;01mif\u001B[39;00m validation_error:\n\u001B[1;32m--> 341\u001B[0m     \u001B[38;5;28;01mraise\u001B[39;00m validation_error\n\u001B[0;32m    342\u001B[0m \u001B[38;5;28;01mtry\u001B[39;00m:\n\u001B[0;32m    343\u001B[0m     object_setattr(__pydantic_self__, \u001B[38;5;124m'\u001B[39m\u001B[38;5;124m__dict__\u001B[39m\u001B[38;5;124m'\u001B[39m, values)\n",
      "\u001B[1;31mValidationError\u001B[0m: 2 validation errors for GoogleScholarAPIWrapper\nSERP_API_KEY\n  extra fields not permitted (type=value_error.extra)\ngoogle_scholar_engine\n  extra fields not permitted (type=value_error.extra)"
     ]
    }
   ],
   "execution_count": 2,
   "source": [
    "# TODO - can't get this to work\n",
    "\n",
    "import os\n",
    "\n",
    "from langchain_community.tools.google_scholar import GoogleScholarQueryRun\n",
    "from langchain_community.utilities.google_scholar import GoogleScholarAPIWrapper\n",
    "\n",
    "\n",
    "wrapper = GoogleScholarAPIWrapper()\n",
    "tool = GoogleScholarQueryRun(api_wrapper=wrapper)\n",
    "tool.run(\"LLM Models\")"
   ],
   "id": "9c99fe9abe6bd381"
  }
 ],
 "metadata": {
  "kernelspec": {
   "display_name": "Python 3",
   "language": "python",
   "name": "python3"
  },
  "language_info": {
   "codemirror_mode": {
    "name": "ipython",
    "version": 2
   },
   "file_extension": ".py",
   "mimetype": "text/x-python",
   "name": "python",
   "nbconvert_exporter": "python",
   "pygments_lexer": "ipython2",
   "version": "2.7.6"
  }
 },
 "nbformat": 4,
 "nbformat_minor": 5
}
