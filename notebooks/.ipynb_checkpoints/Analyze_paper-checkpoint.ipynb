{
 "cells": [
  {
   "cell_type": "code",
   "execution_count": 1,
   "id": "9e3b1e07-33bf-48cd-a769-01230dc7c4d1",
   "metadata": {},
   "outputs": [
    {
     "name": "stdout",
     "output_type": "stream",
     "text": [
      "hello\n"
     ]
    }
   ],
   "source": [
    "print(\"hello\")\n",
    "# Go here https://python.langchain.com/v0.1/docs/get_started/quickstart/ and use the web scraping stuff to pass in the Vice article"
   ]
  },
  {
   "cell_type": "code",
   "execution_count": 4,
   "id": "24e356f5-674d-4f55-9f68-af41737dff4f",
   "metadata": {},
   "outputs": [],
   "source": [
    "from langchain_openai import ChatOpenAI\n",
    "from langchain_core.prompts import ChatPromptTemplate\n",
    "from langchain_core.output_parsers import StrOutputParser\n",
    "from langchain_community.document_loaders import WebBaseLoader\n",
    "from langchain_openai import OpenAIEmbeddings\n",
    "from langchain_community.vectorstores import FAISS\n",
    "from langchain_text_splitters import RecursiveCharacterTextSplitter\n",
    "from langchain.chains.combine_documents import create_stuff_documents_chain\n",
    "from langchain_core.documents import Document\n",
    "from langchain.chains import create_retrieval_chain\n",
    "from bs4 import BeautifulSoup\n",
    "import requests\n"
   ]
  },
  {
   "cell_type": "code",
   "execution_count": 5,
   "id": "96493ee6-9de2-4177-b7ab-639d2b66902e",
   "metadata": {},
   "outputs": [],
   "source": [
    "#%% User Input\n",
    "# let's try reading in a scientific paper \n",
    "url = \"https://www.ncbi.nlm.nih.gov/pmc/articles/PMC7871999/\""
   ]
  },
  {
   "cell_type": "code",
   "execution_count": 6,
   "id": "df0953cb-f848-4cf5-8c35-95ddf48511da",
   "metadata": {},
   "outputs": [],
   "source": [
    "#%% Parse the webpage and find all the external links\n",
    "# Get the webpage content\n",
    "response = requests.get(url)\n",
    "\n",
    "#https://letscodepython.com/blog/2017/11/10/scraping-web-beautiful-soup/\n",
    "\n",
    "# Parse the HTML content\n",
    "soup = BeautifulSoup(response.content, 'html.parser')\n",
    "\n"
   ]
  },
  {
   "cell_type": "code",
   "execution_count": 7,
   "id": "111ca0c9-7134-4853-8b3c-be532b80423b",
   "metadata": {},
   "outputs": [],
   "source": [
    "# Get the web page text\n",
    "embeddings = OpenAIEmbeddings()\n",
    "loader = WebBaseLoader(url) # Is there another option like this that can include links?\n",
    "docs = loader.load()\n",
    "\n",
    "# Ingest web page into a vectorstore to feed to the llm\n",
    "text_splitter = RecursiveCharacterTextSplitter()\n",
    "documents = text_splitter.split_documents(docs)\n",
    "vector = FAISS.from_documents(documents, embeddings)\n",
    "\n",
    "# I \n"
   ]
  },
  {
   "cell_type": "code",
   "execution_count": 8,
   "id": "73d2a873-7ec0-47ed-b88a-8288ab6f8866",
   "metadata": {
    "scrolled": true
   },
   "outputs": [
    {
     "name": "stdout",
     "output_type": "stream",
     "text": [
      "1. The study focused on individual-specific computational modeling of rat optic nerve head (ONH) biomechanics, incorporating a fiber-reinforced model for the sclera. This approach improved upon past models that assumed a simple neo-Hookean solid for the sclera.\n",
      "\n",
      "2. The results of the study showed that elevated intraocular pressure (IOP) led to increased stress and strain in the rat ONH, with the highest strains occurring primarily in the inferior nerve. This pattern was consistent across different ONH models and variants, highlighting the importance of scleral collagen fiber direction on optic nerve strains.\n",
      "\n",
      "3. The study provided insights into how biomechanical insult affects retinal ganglion cell (RGC) pathogenesis in glaucoma, with a focus on understanding the biomechanical environment of the ONH and the cellular responses that occur during the disease. By simulating the effects of elevated IOP in rat ONH models, the research aimed to inform future modeling studies and improve the understanding of glaucoma mechanisms.\n"
     ]
    }
   ],
   "source": [
    "\n",
    "llm = ChatOpenAI()\n",
    "\n",
    "prompt = ChatPromptTemplate.from_template(\"\"\"Answer the following question by referencing the provided context:\n",
    "\n",
    "<context>\n",
    "{context}\n",
    "</context>\n",
    "\n",
    "Question: {input}\"\"\")\n",
    "\n",
    "document_chain = create_stuff_documents_chain(llm, prompt)\n",
    "\n",
    "retriever = vector.as_retriever()\n",
    "retrieval_chain = create_retrieval_chain(retriever, document_chain)\n",
    "\n",
    "#\n",
    "response = retrieval_chain.invoke({\"input\": \"Explain 3 takeaways from the provided scientific article.\"})\n",
    "print(response[\"answer\"])\n",
    "\n",
    "\n"
   ]
  },
  {
   "cell_type": "code",
   "execution_count": 9,
   "id": "c2219c42-9bb2-420d-b63e-b8ac3a177c76",
   "metadata": {},
   "outputs": [
    {
     "name": "stdout",
     "output_type": "stream",
     "text": [
      "No, the provided scientific article does not support the statement that elevated IOP leads to increased strain primarily in the superior nerve of the rat ONH. The article states that the highest strains were seen inferiorly in the rat optic nerve, and this pattern was consistent across different model geometries and variants. It also mentions that RGC axonal degeneration occurs preferentially in the superior nerve, while astrocytes are activated in the inferior nerve before the superior nerve. However, the article does not support the claim that elevated IOP primarily leads to increased strain in the superior nerve of the rat ONH.\n"
     ]
    }
   ],
   "source": [
    "# Let's see if the llm can identify an obviously incorrect statement\n",
    "response = retrieval_chain.invoke({\"input\": \"Does the provided scientific article support this statement, 'Elevated IOP leads to increased strain, primarily in the superior nerve, of the rat ONH.'?\"})\n",
    "print(response[\"answer\"])"
   ]
  },
  {
   "cell_type": "code",
   "execution_count": 10,
   "id": "33325271-9dcb-4521-8ff7-fe059baad23c",
   "metadata": {},
   "outputs": [
    {
     "name": "stdout",
     "output_type": "stream",
     "text": [
      "Yes, the work described in the scientific article supports the statement that elevated IOP causes astrocytes in the inferior rat ONH to reorient before those in the superior ONH. The study found that astrocytes in the inferior nerve withdraw processes extending into the superior nerve, leaving the superior axons more vulnerable to apoptosis. This finding is based on the observation of strain patterns in the rat ONH models, where astrocyte activation and reorientation were seen in the inferior nerve before those in the superior nerve. Further studies will be needed to validate this hypothesis.\n"
     ]
    }
   ],
   "source": [
    "# Ok let's see if the llm can determine if the work in the rat ONH paper backs up a statement. I'm going to feed it a statement that is supported by\n",
    "# a paper referenced in the rat ONH paper, not the rat ONH paper itself\n",
    "response = retrieval_chain.invoke({\"input\": \"Does the work described in the provided scientific article support this statement, 'Elevated IOP causes astrocytes in the inferior rat ONH to reorient before those in the superior ONH'?\"})\n",
    "print(response[\"answer\"])\n",
    "# The llm concluded \"yes\" -- technically not correct"
   ]
  },
  {
   "cell_type": "code",
   "execution_count": 11,
   "id": "fe74cf3c-6e95-48ec-80ea-b3b85194c282",
   "metadata": {},
   "outputs": [
    {
     "name": "stdout",
     "output_type": "stream",
     "text": [
      "The work described in the provided scientific article does support the statement that elevated IOP causes astrocytes in the inferior rat ONH to reorient before those in the superior ONH. The study presents data that aligns with this hypothesis, indicating that astrocytes in the inferior nerve withdraw processes extending into the superior nerve, leaving the superior axons more vulnerable to apoptosis. This finding is based on the strain patterns observed in the rat ONH models studied, suggesting a potential mechanism for the preferential degeneration of RGC axons in the superior nerve.\n"
     ]
    }
   ],
   "source": [
    "# Let's ask a more specific question\n",
    "response = retrieval_chain.invoke({\"input\": \"Does the work described in the provided scientific article support this statement, 'Elevated IOP causes astrocytes in the inferior rat ONH to reorient before those in the superior ONH'? Or does it simply cite another paper to support that statement?\"})\n",
    "print(response[\"answer\"])\n",
    "# The llm didn't really answer the way I'd like it to. Maybe I'm being unfair, or maybe we'd need a more sophisticated model (like gpt4) to answer this"
   ]
  },
  {
   "cell_type": "code",
   "execution_count": 12,
   "id": "eea13950-486b-4709-8816-b5a3b78518f8",
   "metadata": {},
   "outputs": [
    {
     "name": "stdout",
     "output_type": "stream",
     "text": [
      "No, the work described in the scientific article does not support the statement that 'Glaucoma can be cured by reducing astrocyte reactivity to elevated IOP.' The article focuses on studying the biomechanical environment of the optic nerve head in relation to glaucoma, specifically looking at the effects of elevated IOP on retinal ganglion cells. The study does not mention astrocyte reactivity or suggest that reducing it could cure glaucoma.\n"
     ]
    }
   ],
   "source": [
    "# Let's take a leap in logic. We'll ask something that is not really supported by the paper.\n",
    "response = retrieval_chain.invoke({\"input\": \"Does the work described in the provided scientific article support this statement, 'Glaucoma can be cured by reducing astrocyte reactivity to elevated IOP'?\"})\n",
    "print(response[\"answer\"])\n",
    "# LLM provided a pretty good response here"
   ]
  },
  {
   "cell_type": "code",
   "execution_count": 13,
   "id": "af742264-cb56-40b9-8eb1-b880f1a622c2",
   "metadata": {},
   "outputs": [
    {
     "name": "stdout",
     "output_type": "stream",
     "text": [
      "Yes, the work carried out in the provided scientific article supports the statement that biomechanics are an important driver in glaucoma. The article discusses how elevated intraocular pressure (IOP) is a key risk factor for glaucoma and how biomechanical insult to the optic nerve head (ONH) can lead to tissue damage and remodeling, as well as alterations in cell behavior within the ONH. The study used finite element modeling to analyze ONH models with individual-specific geometry and found that changing the collagen fiber direction and scleral stiffness resulted in changes in strain within the optic nerve, which is consistent with the idea that biomechanics play a role in RGC pathogenesis in glaucoma.\n"
     ]
    }
   ],
   "source": [
    "# Let's ask a tough question\n",
    "response = retrieval_chain.invoke({\"input\": \"Does the work carried out in the provided scientific article support this statement, 'Biomechanics are an important driver in glaucoma'?\"})\n",
    "print(response[\"answer\"])\n",
    "# The LLM was fooled here. The article cites research to back up the claim that biomechanics are important in glaucoma, but the actual work carried out\n",
    "# in the article does not support this"
   ]
  },
  {
   "cell_type": "code",
   "execution_count": null,
   "id": "26ff0a15-40ea-4da4-941f-2f9b86eb54ae",
   "metadata": {},
   "outputs": [],
   "source": [
    "# Perhaps I was being a bit too nitpicky or expecting too much of the llm. Perhaps the types of statements that we'd need to verify\n",
    "# won't be so tricky. We can also make the llm/agent cite the portions of text it uses to answer the question. This might help\n",
    "# determine if the statement is actually backed up by the research performed within a given article or if the statement is supported by citations\n",
    "# or is simply an assertion in the article intro. etc."
   ]
  }
 ],
 "metadata": {
  "kernelspec": {
   "display_name": "Python 3 (ipykernel)",
   "language": "python",
   "name": "python3"
  },
  "language_info": {
   "codemirror_mode": {
    "name": "ipython",
    "version": 3
   },
   "file_extension": ".py",
   "mimetype": "text/x-python",
   "name": "python",
   "nbconvert_exporter": "python",
   "pygments_lexer": "ipython3",
   "version": "3.11.9"
  }
 },
 "nbformat": 4,
 "nbformat_minor": 5
}
