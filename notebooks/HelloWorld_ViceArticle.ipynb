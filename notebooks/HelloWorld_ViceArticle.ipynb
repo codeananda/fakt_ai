{
 "cells": [
  {
   "cell_type": "code",
   "execution_count": 1,
   "id": "9e3b1e07-33bf-48cd-a769-01230dc7c4d1",
   "metadata": {},
   "outputs": [
    {
     "name": "stdout",
     "output_type": "stream",
     "text": [
      "hello\n"
     ]
    }
   ],
   "source": [
    "print(\"hello\")\n",
    "# Go here https://python.langchain.com/v0.1/docs/get_started/quickstart/ and use the web scraping stuff to pass in the Vice article"
   ]
  },
  {
   "cell_type": "code",
   "execution_count": 3,
   "id": "24e356f5-674d-4f55-9f68-af41737dff4f",
   "metadata": {},
   "outputs": [],
   "source": [
    "from langchain_openai import ChatOpenAI\n",
    "from langchain_core.prompts import ChatPromptTemplate\n",
    "from langchain_core.output_parsers import StrOutputParser\n",
    "from langchain_community.document_loaders import WebBaseLoader\n",
    "from langchain_openai import OpenAIEmbeddings\n",
    "from langchain_community.vectorstores import FAISS\n",
    "from langchain_text_splitters import RecursiveCharacterTextSplitter\n",
    "from langchain.chains.combine_documents import create_stuff_documents_chain\n",
    "from langchain_core.documents import Document\n",
    "from langchain.chains import create_retrieval_chain\n",
    "\n"
   ]
  },
  {
   "cell_type": "code",
   "execution_count": 4,
   "id": "111ca0c9-7134-4853-8b3c-be532b80423b",
   "metadata": {},
   "outputs": [],
   "source": [
    "embeddings = OpenAIEmbeddings()\n",
    "loader = WebBaseLoader(\"https://www.vice.com/en/article/k7zz9z/spotify-rogan-rfk-vaccine-misinformation-policy\")\n",
    "docs = loader.load()\n",
    "\n",
    "text_splitter = RecursiveCharacterTextSplitter()\n",
    "documents = text_splitter.split_documents(docs)\n",
    "vector = FAISS.from_documents(documents, embeddings)\n"
   ]
  },
  {
   "cell_type": "code",
   "execution_count": 5,
   "id": "73d2a873-7ec0-47ed-b88a-8288ab6f8866",
   "metadata": {
    "scrolled": true
   },
   "outputs": [
    {
     "name": "stdout",
     "output_type": "stream",
     "text": [
      "1. American Academy of Pediatrics roundup of safety studies on vaccines\n",
      "2. Large Australian study on COVID vaccinations and cardiac arrest\n",
      "\n",
      "Please note that no specific scientific papers were directly referenced in the context provided.\n"
     ]
    }
   ],
   "source": [
    "\"\"\"\n",
    "output_parser = StrOutputParser()\n",
    "prompt = ChatPromptTemplate.from_messages([\n",
    "    (\"system\", \"You are a world class technical documentation writer.\"),\n",
    "    (\"user\", \"{input}\")\n",
    "])\n",
    "chain = prompt | llm | output_parser\n",
    "a = chain.invoke({\"input\": \"how can langsmith help with testing?\"})\n",
    "\"\"\"\n",
    "\n",
    "llm = ChatOpenAI()\n",
    "\n",
    "prompt = ChatPromptTemplate.from_template(\"\"\"Answer the following question by referencing the provided context:\n",
    "\n",
    "<context>\n",
    "{context}\n",
    "</context>\n",
    "\n",
    "Question: {input}\"\"\")\n",
    "\n",
    "document_chain = create_stuff_documents_chain(llm, prompt)\n",
    "\"\"\"\n",
    "# Pass context directly into 'page_content'. The llm responds based only on the context provided in the page_content\n",
    "a = document_chain.invoke({\n",
    "    \"input\": \"how can langsmith help with testing?\",\n",
    "    \"context\": [Document(page_content=\"langsmith can let you create incredible videos visualize test results\")]\n",
    "})\n",
    "\"\"\"\n",
    "retriever = vector.as_retriever()\n",
    "retrieval_chain = create_retrieval_chain(retriever, document_chain)\n",
    "\n",
    "# Note -- \n",
    "response = retrieval_chain.invoke({\"input\": \"List the scientific papers referenced in the provided article. Provide them in a numbered list.\"})\n",
    "print(response[\"answer\"])\n",
    "\n",
    "# LangSmith offers several features that can help with testing:...\n"
   ]
  },
  {
   "cell_type": "code",
   "execution_count": null,
   "id": "c2219c42-9bb2-420d-b63e-b8ac3a177c76",
   "metadata": {},
   "outputs": [],
   "source": []
  },
  {
   "cell_type": "code",
   "execution_count": null,
   "id": "33325271-9dcb-4521-8ff7-fe059baad23c",
   "metadata": {},
   "outputs": [],
   "source": []
  }
 ],
 "metadata": {
  "kernelspec": {
   "display_name": "Python 3 (ipykernel)",
   "language": "python",
   "name": "python3"
  },
  "language_info": {
   "codemirror_mode": {
    "name": "ipython",
    "version": 3
   },
   "file_extension": ".py",
   "mimetype": "text/x-python",
   "name": "python",
   "nbconvert_exporter": "python",
   "pygments_lexer": "ipython3",
   "version": "3.11.9"
  }
 },
 "nbformat": 4,
 "nbformat_minor": 5
}
