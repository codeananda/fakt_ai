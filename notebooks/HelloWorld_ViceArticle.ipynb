{
 "cells": [
  {
   "cell_type": "code",
   "id": "9e3b1e07-33bf-48cd-a769-01230dc7c4d1",
   "metadata": {
    "ExecuteTime": {
     "end_time": "2024-06-07T13:06:35.190526Z",
     "start_time": "2024-06-07T13:06:35.183007Z"
    }
   },
   "source": [
    "print(\"hello\")\n",
    "# Go here https://python.langchain.com/v0.1/docs/get_started/quickstart/ and use the web scraping stuff to pass in the Vice article"
   ],
   "outputs": [
    {
     "name": "stdout",
     "output_type": "stream",
     "text": [
      "hello\n"
     ]
    }
   ],
   "execution_count": 1
  },
  {
   "cell_type": "code",
   "id": "24e356f5-674d-4f55-9f68-af41737dff4f",
   "metadata": {
    "ExecuteTime": {
     "end_time": "2024-06-07T13:08:16.708862Z",
     "start_time": "2024-06-07T13:08:15.543968Z"
    }
   },
   "source": [
    "from langchain_openai import ChatOpenAI\n",
    "from langchain_core.prompts import ChatPromptTemplate\n",
    "from langchain_core.output_parsers import StrOutputParser\n",
    "from langchain_community.document_loaders import WebBaseLoader\n",
    "from langchain_openai import OpenAIEmbeddings\n",
    "from langchain_community.vectorstores import FAISS\n",
    "from langchain_text_splitters import RecursiveCharacterTextSplitter\n",
    "from langchain.chains.combine_documents import create_stuff_documents_chain\n",
    "from langchain_core.documents import Document\n",
    "from langchain.chains import create_retrieval_chain\n",
    "\n",
    "from dotenv import load_dotenv,find_dotenv\n",
    "load_dotenv(find_dotenv())\n",
    "\n",
    "vice_article = \"https://www.vice.com/en/article/k7zz9z/spotify-rogan-rfk-vaccine-misinformation-policy\""
   ],
   "outputs": [
    {
     "name": "stderr",
     "output_type": "stream",
     "text": [
      "WARNING:root:USER_AGENT environment variable not set, consider setting it to identify your requests.\n"
     ]
    }
   ],
   "execution_count": 1
  },
  {
   "metadata": {
    "ExecuteTime": {
     "end_time": "2024-06-07T13:09:12.464560Z",
     "start_time": "2024-06-07T13:09:12.435180Z"
    }
   },
   "cell_type": "code",
   "source": [
    "from langchain_community.document_loaders import AsyncChromiumLoader, ChromiumLoader\n",
    "from langchain_community.document_transformers import BeautifulSoupTransformer\n",
    "\n",
    "# Load HTML\n",
    "loader = ChromiumLoader([vice_article])\n",
    "html = loader.load()\n",
    "\n",
    "# Transform\n",
    "bs_transformer = BeautifulSoupTransformer()\n",
    "docs_transformed = bs_transformer.transform_documents(\n",
    "    html, tags_to_extract=[\"p\", \"li\", \"div\", \"a\"]\n",
    ")\n",
    "\n",
    "docs_transformed[0].page_content[0:500]"
   ],
   "id": "211fbe0c951bd058",
   "outputs": [
    {
     "ename": "ImportError",
     "evalue": "cannot import name 'ChromiumLoader' from 'langchain_community.document_loaders' (C:\\Users\\User\\AppData\\Local\\pypoetry\\Cache\\virtualenvs\\fakt-ai-YW2sLaBr-py3.10\\lib\\site-packages\\langchain_community\\document_loaders\\__init__.py)",
     "output_type": "error",
     "traceback": [
      "\u001B[1;31m---------------------------------------------------------------------------\u001B[0m",
      "\u001B[1;31mImportError\u001B[0m                               Traceback (most recent call last)",
      "Cell \u001B[1;32mIn[3], line 1\u001B[0m\n\u001B[1;32m----> 1\u001B[0m \u001B[38;5;28;01mfrom\u001B[39;00m \u001B[38;5;21;01mlangchain_community\u001B[39;00m\u001B[38;5;21;01m.\u001B[39;00m\u001B[38;5;21;01mdocument_loaders\u001B[39;00m \u001B[38;5;28;01mimport\u001B[39;00m AsyncChromiumLoader, ChromiumLoader\n\u001B[0;32m      2\u001B[0m \u001B[38;5;28;01mfrom\u001B[39;00m \u001B[38;5;21;01mlangchain_community\u001B[39;00m\u001B[38;5;21;01m.\u001B[39;00m\u001B[38;5;21;01mdocument_transformers\u001B[39;00m \u001B[38;5;28;01mimport\u001B[39;00m BeautifulSoupTransformer\n\u001B[0;32m      4\u001B[0m \u001B[38;5;66;03m# Load HTML\u001B[39;00m\n",
      "\u001B[1;31mImportError\u001B[0m: cannot import name 'ChromiumLoader' from 'langchain_community.document_loaders' (C:\\Users\\User\\AppData\\Local\\pypoetry\\Cache\\virtualenvs\\fakt-ai-YW2sLaBr-py3.10\\lib\\site-packages\\langchain_community\\document_loaders\\__init__.py)"
     ]
    }
   ],
   "execution_count": 3
  },
  {
   "cell_type": "code",
   "id": "111ca0c9-7134-4853-8b3c-be532b80423b",
   "metadata": {
    "ExecuteTime": {
     "end_time": "2024-06-06T13:54:49.829933Z",
     "start_time": "2024-06-06T13:54:45.688097Z"
    }
   },
   "source": [
    "embeddings = OpenAIEmbeddings()\n",
    "loader = WebBaseLoader(\"https://www.vice.com/en/article/k7zz9z/spotify-rogan-rfk-vaccine-misinformation-policy\")\n",
    "docs = loader.load()\n",
    "\n",
    "text_splitter = RecursiveCharacterTextSplitter()\n",
    "documents = text_splitter.split_documents(docs)\n",
    "vector = FAISS.from_documents(documents, embeddings)\n"
   ],
   "outputs": [],
   "execution_count": 3
  },
  {
   "cell_type": "code",
   "id": "73d2a873-7ec0-47ed-b88a-8288ab6f8866",
   "metadata": {
    "scrolled": true,
    "ExecuteTime": {
     "end_time": "2024-06-06T13:54:52.242367Z",
     "start_time": "2024-06-06T13:54:49.830956Z"
    }
   },
   "source": [
    "\"\"\"\n",
    "output_parser = StrOutputParser()\n",
    "prompt = ChatPromptTemplate.from_messages([\n",
    "    (\"system\", \"You are a world class technical documentation writer.\"),\n",
    "    (\"user\", \"{input}\")\n",
    "])\n",
    "chain = prompt | llm | output_parser\n",
    "a = chain.invoke({\"input\": \"how can langsmith help with testing?\"})\n",
    "\"\"\"\n",
    "\n",
    "llm = ChatOpenAI()\n",
    "\n",
    "prompt = ChatPromptTemplate.from_template(\"\"\"Answer the following question by referencing the provided context:\n",
    "\n",
    "<context>\n",
    "{context}\n",
    "</context>\n",
    "\n",
    "Question: {input}\"\"\")\n",
    "\n",
    "document_chain = create_stuff_documents_chain(llm, prompt)\n",
    "\"\"\"\n",
    "# Pass context directly into 'page_content'. The llm responds based only on the context provided in the page_content\n",
    "a = document_chain.invoke({\n",
    "    \"input\": \"how can langsmith help with testing?\",\n",
    "    \"context\": [Document(page_content=\"langsmith can let you create incredible videos visualize test results\")]\n",
    "})\n",
    "\"\"\"\n",
    "retriever = vector.as_retriever()\n",
    "retrieval_chain = create_retrieval_chain(retriever, document_chain)\n",
    "\n",
    "# Note -- \n",
    "response = retrieval_chain.invoke({\"input\": \"List the scientific papers referenced in the provided article. Provide them in a numbered list.\"})\n",
    "print(response[\"answer\"])\n",
    "\n",
    "# LangSmith offers several features that can help with testing:...\n"
   ],
   "outputs": [
    {
     "name": "stdout",
     "output_type": "stream",
     "text": [
      "1. \"American Academy of Pediatrics has a roundup of some of the biggest [safety studies]\"\n",
      "2. \"a large Australian study released last month found no association between COVID vaccinations and cardiac arrest\"\n"
     ]
    }
   ],
   "execution_count": 4
  },
  {
   "cell_type": "code",
   "id": "c2219c42-9bb2-420d-b63e-b8ac3a177c76",
   "metadata": {
    "ExecuteTime": {
     "end_time": "2024-06-06T13:54:52.257609Z",
     "start_time": "2024-06-06T13:54:52.244316Z"
    }
   },
   "source": [],
   "outputs": [],
   "execution_count": 4
  },
  {
   "cell_type": "code",
   "id": "33325271-9dcb-4521-8ff7-fe059baad23c",
   "metadata": {
    "ExecuteTime": {
     "end_time": "2024-06-06T13:54:52.273383Z",
     "start_time": "2024-06-06T13:54:52.259443Z"
    }
   },
   "source": [],
   "outputs": [],
   "execution_count": 4
  }
 ],
 "metadata": {
  "kernelspec": {
   "display_name": "Python 3 (ipykernel)",
   "language": "python",
   "name": "python3"
  },
  "language_info": {
   "codemirror_mode": {
    "name": "ipython",
    "version": 3
   },
   "file_extension": ".py",
   "mimetype": "text/x-python",
   "name": "python",
   "nbconvert_exporter": "python",
   "pygments_lexer": "ipython3",
   "version": "3.11.9"
  }
 },
 "nbformat": 4,
 "nbformat_minor": 5
}
